{
 "cells": [
  {
   "cell_type": "code",
   "execution_count": 5,
   "id": "b7d7601b-2cfa-4f8a-8078-c8481b46ac29",
   "metadata": {},
   "outputs": [
    {
     "name": "stdout",
     "output_type": "stream",
     "text": [
      "명령어: s → 폴링 시작, q → 종료\n"
     ]
    },
    {
     "name": "stdin",
     "output_type": "stream",
     "text": [
      ">  s\n",
      "폴링 간격(초):  3\n"
     ]
    },
    {
     "name": "stdout",
     "output_type": "stream",
     "text": [
      "자동 폴링 시작: 3.0초 간격, Ctrl-C로 종료\n",
      "\n",
      "[습도] 60 %  |  누적평균: 60.0 % (샘플 1)\n",
      "[습도] 58 %  |  누적평균: 59.0 % (샘플 2)\n",
      "[습도] 60 %  |  누적평균: 59.3 % (샘플 3)\n",
      "[습도] 64 %  |  누적평균: 60.5 % (샘플 4)\n",
      "[습도] 68 %  |  누적평균: 62.0 % (샘플 5)\n",
      "[온도] 29 ℃  |  누적평균: 29.0 ℃ (샘플 1)\n",
      "[온도] 29 ℃  |  누적평균: 29.0 ℃ (샘플 2)\n",
      "[온도] 30 ℃  |  누적평균: 29.3 ℃ (샘플 3)\n",
      "[온도] 30 ℃  |  누적평균: 29.5 ℃ (샘플 4)\n",
      "[온도] 30 ℃  |  누적평균: 29.6 ℃ (샘플 5)\n",
      "[온도] 30 ℃  |  누적평균: 29.7 ℃ (샘플 6)\n",
      "[온도] 30 ℃  |  누적평균: 29.7 ℃ (샘플 7)\n",
      "[온도] 31 ℃  |  누적평균: 29.9 ℃ (샘플 8)\n",
      "[온도] 31 ℃  |  누적평균: 30.0 ℃ (샘플 9)\n",
      "[온도] 31 ℃  |  누적평균: 30.1 ℃ (샘플 10)\n",
      "[거리] 173 cm  |  누적평균: 173.0 cm (샘플 1)\n",
      "[거리] 6 cm  |  누적평균: 89.5 cm (샘플 2)\n",
      "[거리] 12 cm  |  누적평균: 63.7 cm (샘플 3)\n",
      "[거리] 12 cm  |  누적평균: 50.8 cm (샘플 4)\n",
      "[거리] 22 cm  |  누적평균: 45.0 cm (샘플 5)\n",
      "[거리] 173 cm  |  누적평균: 66.3 cm (샘플 6)\n",
      "[거리] 171 cm  |  누적평균: 81.3 cm (샘플 7)\n",
      "[거리] 172 cm  |  누적평균: 92.6 cm (샘플 8)\n",
      "\n",
      "자동 폴링 중단\n"
     ]
    },
    {
     "name": "stdin",
     "output_type": "stream",
     "text": [
      ">  q\n"
     ]
    }
   ],
   "source": [
    "import serial\n",
    "import time\n",
    "import re\n",
    "import statistics\n",
    "\n",
    "pattern = re.compile(r'([DTH]):\\s*(\\d+)')\n",
    "\n",
    "def open_serial(port='COM4', baud=9600, timeout=1):\n",
    "    ser = serial.Serial(port, baudrate=baud, timeout=timeout)\n",
    "    ser.reset_input_buffer()\n",
    "    ser.reset_output_buffer()\n",
    "    return ser\n",
    "\n",
    "def request_and_read(ser):\n",
    "    ser.write(b's')\n",
    "    ser.flush()\n",
    "    time.sleep(0.1)\n",
    "    return ser.readline().decode('ascii', errors='ignore').strip()\n",
    "\n",
    "def polling_loop(ser, interval):\n",
    "    print(f\"자동 폴링 시작: {interval}초 간격, Ctrl-C로 종료\\n\")\n",
    "    dist_list, temp_list, hum_list = [], [], []\n",
    "    try:\n",
    "        while True:\n",
    "            raw = request_and_read(ser)\n",
    "            m = pattern.match(raw)\n",
    "            if m:\n",
    "                kind, val = m.group(1), int(m.group(2))\n",
    "                if kind == 'D':\n",
    "                    dist_list.append(val)\n",
    "                    avg = statistics.mean(dist_list)\n",
    "                    print(f\"[거리] {val} cm  |  누적평균: {avg:.1f} cm (샘플 {len(dist_list)})\")\n",
    "                elif kind == 'T':\n",
    "                    temp_list.append(val)\n",
    "                    avg = statistics.mean(temp_list)\n",
    "                    print(f\"[온도] {val} ℃  |  누적평균: {avg:.1f} ℃ (샘플 {len(temp_list)})\")\n",
    "                elif kind == 'H':\n",
    "                    hum_list.append(val)\n",
    "                    avg = statistics.mean(hum_list)\n",
    "                    print(f\"[습도] {val} %  |  누적평균: {avg:.1f} % (샘플 {len(hum_list)})\")\n",
    "            else:\n",
    "                print(\"응답 형식 오류:\", raw)\n",
    "\n",
    "            time.sleep(interval)\n",
    "    except KeyboardInterrupt:\n",
    "        print(\"\\n자동 폴링 중단\")\n",
    "\n",
    "def main():\n",
    "    ser = open_serial('COM4', baud=9600, timeout=1)\n",
    "    print(\"명령어: s → 폴링 시작, q → 종료\")\n",
    "    while True:\n",
    "        cmd = input(\"> \").strip().lower()\n",
    "        if cmd == 'q':\n",
    "            break\n",
    "        elif cmd == 's':\n",
    "            try:\n",
    "                interval = float(input(\"폴링 간격(초): \"))\n",
    "            except ValueError:\n",
    "                interval = 1.0\n",
    "            polling_loop(ser, interval)\n",
    "        else:\n",
    "            print(\"s 또는 q 만 입력하세요.\")\n",
    "    ser.close()\n",
    "\n",
    "if __name__ == '__main__':\n",
    "    main()\n"
   ]
  },
  {
   "cell_type": "code",
   "execution_count": 2,
   "id": "550565d3-8c9b-452f-8dad-1ba0188f7e0c",
   "metadata": {},
   "outputs": [
    {
     "name": "stdout",
     "output_type": "stream",
     "text": [
      "C:\\Users\\kccistc\\anaconda3\\envs\\myenv\\lib\\site-packages\\serial\\__init__.py\n",
      "<class 'serial.serialwin32.Serial'>\n",
      "3.5\n"
     ]
    }
   ],
   "source": [
    "import serial\n",
    "print(serial.__file__)\n",
    "print(serial.Serial)       # <class 'serial.serialutil.Serial'> 처럼 나와야 합니다.\n",
    "print(serial.VERSION)"
   ]
  }
 ],
 "metadata": {
  "kernelspec": {
   "display_name": "Python 3 (ipykernel)",
   "language": "python",
   "name": "python3"
  },
  "language_info": {
   "codemirror_mode": {
    "name": "ipython",
    "version": 3
   },
   "file_extension": ".py",
   "mimetype": "text/x-python",
   "name": "python",
   "nbconvert_exporter": "python",
   "pygments_lexer": "ipython3",
   "version": "3.9.21"
  }
 },
 "nbformat": 4,
 "nbformat_minor": 5
}
